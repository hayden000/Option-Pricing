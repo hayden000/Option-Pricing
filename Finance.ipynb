{
 "cells": [
  {
   "cell_type": "code",
   "execution_count": 58,
   "metadata": {
    "collapsed": true
   },
   "outputs": [],
   "source": [
    "import math\n",
    "\n",
    "import numpy\n",
    "import numpy as np\n",
    "import scipy\n",
    "\n",
    "\n",
    "def black_scholes(spot_price, strike_price, risk_rate, mature_time, volitility, callput):\n",
    "    ddivisor =volitility*mature_time * math.sqrt(mature_time)\n",
    "    d1 = (math.log(spot_price / strike_price) + (risk_rate + ((volitility ** 2) / 2)) * mature_time) / (ddivisor)\n",
    "    d2 = (d1 - ddivisor)\n",
    "    call = (spot_price * scipy.stats.norm.cdf(d1)) - strike_price * math.exp(\n",
    "        -risk_rate * mature_time) * scipy.stats.norm.cdf(d2)\n",
    "    put = strike_price * math.exp(-risk_rate * mature_time) * scipy.stats.norm.cdf(\n",
    "        -d2) - spot_price * scipy.stats.norm.cdf(-d1)\n",
    "    if callput == \"call\":\n",
    "        return call\n",
    "    else:\n",
    "        return put\n",
    "    # call = (spot_price * scipy.stats.norm.cdf((math.log(spot_price/strike_price)+(risk_rate+((volitility**2)/2))*mature_time) / (volitility*math.sqrt(mature_time)))) - strike_price * math.exp(-risk_rate * mature_time) * scipy.stats.norm.cdf(((math.log(spot_price/strike_price)+(risk_rate+((volitility**2)/2))*mature_time) / (volitility*math.sqrt(mature_time)) - (volitility * math.sqrt(mature_time))))"
   ]
  },
  {
   "cell_type": "code",
   "execution_count": 59,
   "outputs": [
    {
     "name": "stdout",
     "output_type": "stream",
     "text": [
      "0.03311723312069925\n",
      "17.070306676520616\n",
      "8.672275184569173\n",
      "0.35140691523244527\n"
     ]
    }
   ],
   "source": [
    "print(black_scholes(100, 120, 0.05, 0.5, 0.2, \"call\"))\n",
    "print(black_scholes(100, 120, 0.05, 0.5, 0.2, \"put\"))\n",
    "print(black_scholes(100,94,0.05, 0.5, 0.2, \"call\"))\n",
    "print(black_scholes(100,94,0.05, 0.5, 0.2, \"put\"))\n",
    "# black_scholes(spot_price,strike_price,risk_rate,mature_time,volatility)"
   ],
   "metadata": {
    "collapsed": false
   }
  },
  {
   "cell_type": "markdown",
   "source": [],
   "metadata": {
    "collapsed": false
   }
  },
  {
   "cell_type": "code",
   "execution_count": 63,
   "outputs": [
    {
     "name": "stdout",
     "output_type": "stream",
     "text": [
      "[20, 21.039971258639994, 22.069127115092016, 23.087580046430332, 24.095441359999953, 25.092821205581487, 26.079828587429503, 27.05657137618566, 28.02315632066791, 28.979689059537193, 29.926274132842764, 30.86301499344738, 31.790014018333764, 32.707372519793466, 33.61519075649929, 34.51356794446268, 35.40260226787707, 36.282390889848514, 37.15302996301466, 38.014614640053395, 38.86723908408209, 39.71099647894873, 40.54597903941611, 41.37227802123998, 42.18998373114245, 42.999185536681665, 43.79997187601889, 44.59243026758388, 45.376647319639915, 46.152708739749215, 46.92069934413999, 47.68070306697604, 48.43280296953, 49.17708124926115, 49.913619248798796, 50.642497464832275, 51.36379555690853, 52.07759235613807, 52.78396587381053, 53.482993309920545, 54.17475106160501, 54.859314731492546, 55.536759135966165, 56.20715831333999, 56.870585531950965, 57.52711329816639, 58.17681336430819, 58.819756736494746, 59.456013682401235, 60.08565373893919, 60.708745719856275, 61.32535772325692, 61.93555713904488, 62.539410656288254, 63.13698427050801, 63.72834329089066, 64.31355234742597, 64.89267539797034, 65.46577573523689, 66.0329159937127, 66.5941581565042, 67.14956356211128, 67.69919291113112, 68.2431062728921, 68.78136309201886, 69.31402219492905, 69.84114179626243, 70.3627795052433, 70.87899233197652, 71.38983669367832, 71.89536842084203, 72.39564276333994, 72.8907143964615, 73.38063742688894, 73.86546539861045, 74.34525129877223, 74.8200475634693, 75.28990608347644, 75.75487820991924, 76.21501475988634, 76.67036602198328, 77.12098176182857, 77.56691122749257, 78.00820315487982, 78.44490577305558, 78.87706680951656, 79.30473349540732, 79.72795257068202, 80.14677028921281, 80.56123242384476, 80.9713842713986, 81.37727065762111, 81.77893594208416, 82.17642402303287, 82.56977834218318, 82.95904188946973, 83.34425720774414, 83.72546639742458, 84.10271112109709, 84.47603260806864, 84.84547165887338, 85.21106864973154, 85.57286353696233, 85.93089586135069, 86.28520475246877, 86.63582893295242, 86.98280672273319, 87.32617604322638, 87.66597442147545, 88.00223899425342, 88.3350065121215, 88.66431334344566, 88.9901954783713, 89.3126885327567, 89.63182775206536, 89.94764801521816, 90.26018383840523, 90.56946937885817, 90.87553843858329, 91.17842446805568, 91.47816056987512, 91.77477950238386, 92.06831368324684, 92.35879519299455, 92.64625577852922, 92.93072685659442, 93.21223951720859, 93.49082452706295, 93.76651233288393, 94.03933306476081, 94.30931653943856, 94.57649226357657, 94.84088943697348, 95.10253695575842, 95.36146341554905, 95.61769711457683, 95.87126605677979, 96.12219795486298, 96.37052023332737, 96.61626003146691, 96.85944420633477, 97.10009933567844, 97.3382517208445, 97.57392738965305, 97.8071520992424, 98.03795133888397, 98.2663503327681, 98.49237404276082, 98.7160471711319, 98.93739416325462, 99.15643921027741, 99.37320625176768, 99.58771897832824, 99.80000083418646, 100.01007501975644, 100.21796449417467, 100.42369197780921, 100.62727995474283, 100.8287506752303, 101.0281261581301, 101.225428193311, 101.42067834403329, 101.61389794930562, 101.80510812621706, 101.99432977224502, 102.18158356753918, 102.36688997718156, 102.55026925342324, 102.73174143789771, 102.91132636381121, 103.08904365811036, 103.26491274362716, 103.43895284120177, 103.61118297178308, 103.78162195850763, 103.95028842875674, 104.11720081619228, 104.28237736277138, 104.44583612074007, 104.60759495460613, 104.76767154309168, 104.92608338106517, 105.08284778145344, 105.2379818771339]\n"
     ]
    },
    {
     "ename": "TypeError",
     "evalue": "'int' object is not subscriptable",
     "output_type": "error",
     "traceback": [
      "\u001B[0;31m---------------------------------------------------------------------------\u001B[0m",
      "\u001B[0;31mTypeError\u001B[0m                                 Traceback (most recent call last)",
      "\u001B[0;32m/var/folders/n4/y5gpyppx1094g92p8dcf6h780000gn/T/ipykernel_50912/982696294.py\u001B[0m in \u001B[0;36m<module>\u001B[0;34m\u001B[0m\n\u001B[1;32m     64\u001B[0m \u001B[0;31m# binomial(20,21,0.12,0.1,0.5,2,\"call\",\"euro\")\u001B[0m\u001B[0;34m\u001B[0m\u001B[0;34m\u001B[0m\u001B[0m\n\u001B[1;32m     65\u001B[0m \u001B[0;34m\u001B[0m\u001B[0m\n\u001B[0;32m---> 66\u001B[0;31m \u001B[0mprint\u001B[0m\u001B[0;34m(\u001B[0m\u001B[0mbinomial\u001B[0m\u001B[0;34m(\u001B[0m\u001B[0;36m100\u001B[0m\u001B[0;34m,\u001B[0m \u001B[0;36m120\u001B[0m\u001B[0;34m,\u001B[0m \u001B[0;36m0.05\u001B[0m\u001B[0;34m,\u001B[0m \u001B[0;36m0.2\u001B[0m\u001B[0;34m,\u001B[0m \u001B[0;36m0.5\u001B[0m\u001B[0;34m,\u001B[0m \u001B[0;36m183\u001B[0m\u001B[0;34m,\u001B[0m \u001B[0;34m\"put\"\u001B[0m\u001B[0;34m,\u001B[0m \u001B[0;34m\"e\"\u001B[0m\u001B[0;34m)\u001B[0m\u001B[0;34m)\u001B[0m\u001B[0;34m\u001B[0m\u001B[0;34m\u001B[0m\u001B[0m\n\u001B[0m\u001B[1;32m     67\u001B[0m \u001B[0mprint\u001B[0m\u001B[0;34m(\u001B[0m\u001B[0mbinomial\u001B[0m\u001B[0;34m(\u001B[0m\u001B[0;36m100\u001B[0m\u001B[0;34m,\u001B[0m \u001B[0;36m120\u001B[0m\u001B[0;34m,\u001B[0m \u001B[0;36m0.05\u001B[0m\u001B[0;34m,\u001B[0m \u001B[0;36m0.2\u001B[0m\u001B[0;34m,\u001B[0m \u001B[0;36m0.5\u001B[0m\u001B[0;34m,\u001B[0m \u001B[0;36m183\u001B[0m\u001B[0;34m,\u001B[0m \u001B[0;34m\"call\"\u001B[0m\u001B[0;34m,\u001B[0m \u001B[0;34m\"e\"\u001B[0m\u001B[0;34m)\u001B[0m\u001B[0;34m)\u001B[0m\u001B[0;34m\u001B[0m\u001B[0;34m\u001B[0m\u001B[0m\n\u001B[1;32m     68\u001B[0m \u001B[0mprint\u001B[0m\u001B[0;34m(\u001B[0m\u001B[0mbinomial\u001B[0m\u001B[0;34m(\u001B[0m\u001B[0;36m100\u001B[0m\u001B[0;34m,\u001B[0m \u001B[0;36m120\u001B[0m\u001B[0;34m,\u001B[0m \u001B[0;36m0.05\u001B[0m\u001B[0;34m,\u001B[0m \u001B[0;36m0.2\u001B[0m\u001B[0;34m,\u001B[0m \u001B[0;36m0.5\u001B[0m\u001B[0;34m,\u001B[0m \u001B[0;36m183\u001B[0m\u001B[0;34m,\u001B[0m \u001B[0;34m\"put\"\u001B[0m\u001B[0;34m,\u001B[0m \u001B[0;34m\"a\"\u001B[0m\u001B[0;34m)\u001B[0m\u001B[0;34m)\u001B[0m\u001B[0;34m\u001B[0m\u001B[0;34m\u001B[0m\u001B[0m\n",
      "\u001B[0;32m/var/folders/n4/y5gpyppx1094g92p8dcf6h780000gn/T/ipykernel_50912/982696294.py\u001B[0m in \u001B[0;36mbinomial\u001B[0;34m(starting_value, strike, rate, volitility, time, step, type, excersise)\u001B[0m\n\u001B[1;32m     57\u001B[0m     \u001B[0;31m# print(tree)\u001B[0m\u001B[0;34m\u001B[0m\u001B[0;34m\u001B[0m\u001B[0m\n\u001B[1;32m     58\u001B[0m     \u001B[0mprint\u001B[0m\u001B[0;34m(\u001B[0m\u001B[0mvalues\u001B[0m\u001B[0;34m)\u001B[0m\u001B[0;34m\u001B[0m\u001B[0;34m\u001B[0m\u001B[0m\n\u001B[0;32m---> 59\u001B[0;31m     \u001B[0;32mreturn\u001B[0m \u001B[0mvalues\u001B[0m\u001B[0;34m[\u001B[0m\u001B[0;36m0\u001B[0m\u001B[0;34m]\u001B[0m\u001B[0;34m[\u001B[0m\u001B[0;36m0\u001B[0m\u001B[0;34m]\u001B[0m\u001B[0;34m\u001B[0m\u001B[0;34m\u001B[0m\u001B[0m\n\u001B[0m\u001B[1;32m     60\u001B[0m \u001B[0;34m\u001B[0m\u001B[0m\n\u001B[1;32m     61\u001B[0m \u001B[0;34m\u001B[0m\u001B[0m\n",
      "\u001B[0;31mTypeError\u001B[0m: 'int' object is not subscriptable"
     ]
    }
   ],
   "source": [
    "import math\n",
    "import numpy\n",
    "import scipy\n",
    "\n",
    "\n",
    "def binomial(starting_value, strike, rate, volitility, time, step, type, excersise):\n",
    "    up = math.exp(volitility * math.sqrt(time / step))\n",
    "    down = 1 / up\n",
    "    rate_value = math.exp((-rate) * time / step)\n",
    "    increase_probability = ((math.exp(rate * (time / step)) - down) / (up - down))\n",
    "    decrease_probability = 1 - increase_probability\n",
    "\n",
    "    tree = [[0]]\n",
    "    tree[0][0] = starting_value\n",
    "    for cur_depth in range(1, step + 1):\n",
    "        new_values = []\n",
    "        old = tree[-1]\n",
    "        for child in range(0, cur_depth + 1):\n",
    "            if cur_depth == child:\n",
    "                new = old[-1] * down\n",
    "            elif child == 0:\n",
    "                new = old[0] * up\n",
    "            else:\n",
    "                new = ((old[child - 1] * up) + (old[child] * down)) / 2\n",
    "            new_values.append(new)\n",
    "        tree.append(new_values)\n",
    "    children = tree[-1]\n",
    "    values = []\n",
    "    for i in children:\n",
    "        if type == \"put\":\n",
    "            if strike - i > 0:\n",
    "                option = strike - i\n",
    "            else:\n",
    "                option = 0\n",
    "        else:\n",
    "            if i - strike > 0:\n",
    "                option = i - strike\n",
    "            else:\n",
    "                option = 0\n",
    "        values.append(option)\n",
    "    k = step-1\n",
    "    while k >= 0:\n",
    "        for j in range(k + 1):\n",
    "            option = (increase_probability * values[j + 1] + decrease_probability * values[j]) * rate_value\n",
    "            if type == \"put\":\n",
    "                if strike - tree[k][j] > 0:\n",
    "                    option = strike - tree[k][j]\n",
    "                else:\n",
    "                    option = 0\n",
    "            else:\n",
    "                if tree[k][j] - strike > 0:\n",
    "                    option = tree[k][j] - strike\n",
    "                else:\n",
    "                    option = 0\n",
    "            values[j] = option\n",
    "        k = k - 1\n",
    "    # print(tree)\n",
    "    print(values)\n",
    "    return values[0]\n",
    "\n",
    "\n",
    "# print(binomial(100, 120, 0.05, 0.2, 0.5,183,\"put\",\"e\"))\n",
    "#binomial(100,110,0.05,0.2,1,100,'call','euro')\n",
    "# binomial(20,21,0.12,0.1,0.5,2,\"call\",\"euro\")\n",
    "\n",
    "print(binomial(100, 120, 0.05, 0.2, 0.5, 183, \"put\", \"e\"))\n",
    "print(binomial(100, 120, 0.05, 0.2, 0.5, 183, \"call\", \"e\"))\n",
    "print(binomial(100, 120, 0.05, 0.2, 0.5, 183, \"put\", \"a\"))\n",
    "print(binomial(100, 120, 0.05, 0.2, 0.5, 183, \"call\", \"a\"))\n"
   ],
   "metadata": {
    "collapsed": false
   }
  },
  {
   "cell_type": "code",
   "execution_count": 60,
   "outputs": [
    {
     "name": "stdout",
     "output_type": "stream",
     "text": [
      "0.03497425901402458\n",
      "17.08778409256354\n",
      "8.724575419897395\n",
      "0.355205052314832\n"
     ]
    }
   ],
   "source": [
    "import numpy\n",
    "\n",
    "\n",
    "def monte_carlo(stock_price,strike_price,time, interest_rate, volitility, type,steps,simulations ):\n",
    "    volitility *= time\n",
    "    dt = time/steps\n",
    "    rn = (interest_rate-0.5*volitility**2)*dt\n",
    "    vol = volitility*numpy.sqrt(dt)\n",
    "    z = numpy.random.normal(size=(steps,simulations))\n",
    "    st = stock_price*numpy.exp(numpy.cumsum(rn+vol*z,axis=0))\n",
    "    if type==\"call\":\n",
    "        values=numpy.maximum(st[-1]-strike_price,0)\n",
    "    else:\n",
    "        values=numpy.maximum(strike_price-st[-1],0)\n",
    "    return  numpy.mean(values)*numpy.exp(-interest_rate*time)\n",
    "\n",
    "\n",
    "\n",
    "\n",
    "print(monte_carlo(100,120, 0.5, 0.05,0.2,\"call\", 252,100000))\n",
    "print(monte_carlo(100,120, 0.5, 0.05,0.2,\"put\", 252,100000))\n",
    "print(monte_carlo(100,94, 0.5, 0.05,0.2,\"call\", 252,100000))\n",
    "print(monte_carlo(100,94, 0.5, 0.05,0.2,\"put\", 252,100000))"
   ],
   "metadata": {
    "collapsed": false
   }
  },
  {
   "cell_type": "code",
   "execution_count": null,
   "outputs": [],
   "source": [],
   "metadata": {
    "collapsed": false
   }
  }
 ],
 "metadata": {
  "kernelspec": {
   "display_name": "Python 3",
   "language": "python",
   "name": "python3"
  },
  "language_info": {
   "codemirror_mode": {
    "name": "ipython",
    "version": 2
   },
   "file_extension": ".py",
   "mimetype": "text/x-python",
   "name": "python",
   "nbconvert_exporter": "python",
   "pygments_lexer": "ipython2",
   "version": "2.7.6"
  }
 },
 "nbformat": 4,
 "nbformat_minor": 0
}
