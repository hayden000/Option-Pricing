{
 "cells": [
  {
   "cell_type": "code",
   "execution_count": 1,
   "metadata": {
    "collapsed": true
   },
   "outputs": [],
   "source": [
    "import math\n",
    "\n",
    "import numpy\n",
    "import numpy as np\n",
    "import scipy\n",
    "\n",
    "\n",
    "def black_scholes(spot_price, strike_price, risk_rate, mature_time, volitility, callput):\n",
    "    d1 = (math.log(spot_price / strike_price) + (risk_rate + ((volitility ** 2) / 2)) * mature_time) / (\n",
    "            volitility * math.sqrt(mature_time))\n",
    "    d2 = (d1 - (volitility * math.sqrt(mature_time)))\n",
    "    call = (spot_price * scipy.stats.norm.cdf(d1)) - strike_price * math.exp(\n",
    "        -risk_rate * mature_time) * scipy.stats.norm.cdf(d2)\n",
    "    put = strike_price * math.exp(-risk_rate * mature_time) * scipy.stats.norm.cdf(\n",
    "        -d2) - spot_price * scipy.stats.norm.cdf(-d1)\n",
    "    if callput == \"call\":\n",
    "        return call\n",
    "    else:\n",
    "        return put\n",
    "    # call = (spot_price * scipy.stats.norm.cdf((math.log(spot_price/strike_price)+(risk_rate+((volitility**2)/2))*mature_time) / (volitility*math.sqrt(mature_time)))) - strike_price * math.exp(-risk_rate * mature_time) * scipy.stats.norm.cdf(((math.log(spot_price/strike_price)+(risk_rate+((volitility**2)/2))*mature_time) / (volitility*math.sqrt(mature_time)) - (volitility * math.sqrt(mature_time))))"
   ]
  },
  {
   "cell_type": "code",
   "execution_count": 5,
   "outputs": [
    {
     "name": "stdout",
     "output_type": "stream",
     "text": [
      "1.0226152225558796\n",
      "18.05980466595578\n",
      "10.549187590491826\n",
      "2.2283193211550945\n"
     ]
    }
   ],
   "source": [
    "print(black_scholes(100, 120, 0.05, 0.5, 0.2, \"call\"))\n",
    "print(black_scholes(100, 120, 0.05, 0.5, 0.2, \"put\"))\n",
    "print(black_scholes(100,94,0.05, 0.5, 0.2, \"call\"))\n",
    "print(black_scholes(100,94,0.05, 0.5, 0.2, \"put\"))\n",
    "# black_scholes(spot_price,strike_price,risk_rate,mature_time,volatility)"
   ],
   "metadata": {
    "collapsed": false
   }
  },
  {
   "cell_type": "markdown",
   "source": [],
   "metadata": {
    "collapsed": false
   }
  },
  {
   "cell_type": "code",
   "execution_count": 31,
   "outputs": [
    {
     "name": "stdout",
     "output_type": "stream",
     "text": [
      "[5.577764856335021, 10.153787114456259, 18.483997698218033]\n"
     ]
    },
    {
     "data": {
      "text/plain": "5.577764856335021"
     },
     "execution_count": 31,
     "metadata": {},
     "output_type": "execute_result"
    }
   ],
   "source": [
    "import math\n",
    "import numpy\n",
    "import scipy\n",
    "\n",
    "\n",
    "def binomial(starting_value, strike, rate, volitility, time, step, type, excersise):\n",
    "    up = math.exp(volitility * math.sqrt(time / step))\n",
    "    down = 1 / math.exp(volitility * math.sqrt(time / step))\n",
    "    rate_value = math.exp((-rate) * time / step)\n",
    "    increase_probability = ((math.exp(rate * (time / step)) - down) / (up - down))\n",
    "    decrease_probability = 1 - ((math.exp(rate * (time / step)) - down) / (up - down))\n",
    "    tree = [[0]]\n",
    "    tree[0][0] = tree[0][0] + starting_value\n",
    "    for cur_depth in range(1, step + 1):\n",
    "        new_values = []\n",
    "        old = tree[-1]\n",
    "        for child in range(0, cur_depth + 1):\n",
    "            if cur_depth == child:\n",
    "                new = old[-1] * down\n",
    "            elif child == 0:\n",
    "                new = old[0] * up\n",
    "            else:\n",
    "                new = ((old[child - 1] * up) + (old[child] * down)) / 2\n",
    "            new_values.append(new)\n",
    "        tree.append(new_values)\n",
    "    children = tree[-1]\n",
    "    values = []\n",
    "    for i in children:\n",
    "        if type == \"put\":\n",
    "            if strike - i > 0:\n",
    "                option = strike - i\n",
    "            else:\n",
    "                option = 0\n",
    "        else:\n",
    "            if i - strike > 0:\n",
    "                option = i - strike\n",
    "            else:\n",
    "                option = 0\n",
    "        values.append(option)\n",
    "    i = step - 1\n",
    "    while i >= 0:\n",
    "        for j in range(i + 1):\n",
    "            values[j] = (increase_probability * values[j + 1] + decrease_probability * values[j]) * rate_value\n",
    "        i = i - 1\n",
    "    # print(tree)\n",
    "    print(values)\n",
    "    return values[0]\n",
    "\n",
    "\n",
    "# print(binomial(100, 120, 0.05, 0.2, 0.5,183,\"put\",\"e\"))\n",
    "#binomial(100,110,0.05,0.2,1,100,'call','euro')\n",
    "# binomial(20,21,0.12,0.1,0.5,2,\"call\",\"euro\")\n",
    "binomial(50, 52, 0.05, 0.2, 2, 2, \"put\", \"e\")"
   ],
   "metadata": {
    "collapsed": false
   }
  },
  {
   "cell_type": "code",
   "execution_count": 49,
   "outputs": [
    {
     "name": "stdout",
     "output_type": "stream",
     "text": [
      "1.0403885223004867\n",
      "18.077924434054655\n",
      "10.516177934207803\n",
      "2.235947303999189\n"
     ]
    }
   ],
   "source": [
    "import numpy\n",
    "\n",
    "\n",
    "def monte_carlo(stock_price,strike_price,time, interest_rate, volitility, type,steps,simulations ):\n",
    "    dt = time/steps\n",
    "    rn = (interest_rate-0.5*volitility**2)*dt\n",
    "    vol = volitility*numpy.sqrt(dt)\n",
    "    z = numpy.random.normal(size=(steps,simulations))\n",
    "    st = stock_price*numpy.exp(numpy.cumsum(rn+vol*z,axis=0))\n",
    "    if type==\"call\":\n",
    "        values=numpy.maximum(st[-1]-strike_price,0)\n",
    "    else:\n",
    "        values=numpy.maximum(strike_price-st[-1],0)\n",
    "    return  numpy.mean(values)*numpy.exp(-interest_rate*time)\n",
    "\n",
    "\n",
    "\n",
    "\n",
    "print(monte_carlo(100,120, 0.5, 0.05,0.2,\"call\", 252,100000))\n",
    "print(monte_carlo(100,120, 0.5, 0.05,0.2,\"put\", 252,100000))\n",
    "print(monte_carlo(100,94, 0.5, 0.05,0.2,\"call\", 252,100000))\n",
    "print(monte_carlo(100,94, 0.5, 0.05,0.2,\"put\", 252,100000))"
   ],
   "metadata": {
    "collapsed": false
   }
  },
  {
   "cell_type": "code",
   "execution_count": null,
   "outputs": [],
   "source": [],
   "metadata": {
    "collapsed": false
   }
  }
 ],
 "metadata": {
  "kernelspec": {
   "display_name": "Python 3",
   "language": "python",
   "name": "python3"
  },
  "language_info": {
   "codemirror_mode": {
    "name": "ipython",
    "version": 2
   },
   "file_extension": ".py",
   "mimetype": "text/x-python",
   "name": "python",
   "nbconvert_exporter": "python",
   "pygments_lexer": "ipython2",
   "version": "2.7.6"
  }
 },
 "nbformat": 4,
 "nbformat_minor": 0
}
