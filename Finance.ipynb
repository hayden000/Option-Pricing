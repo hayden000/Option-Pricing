{
 "cells": [
  {
   "cell_type": "code",
   "execution_count": 1,
   "metadata": {
    "collapsed": true
   },
   "outputs": [
    {
     "name": "stdout",
     "output_type": "stream",
     "text": [
      "0.03311723312069925\n",
      "17.070306676520616\n",
      "7.009859140996113\n",
      "0.6396106957160494\n"
     ]
    }
   ],
   "source": [
    "import math\n",
    "\n",
    "import numpy\n",
    "import scipy\n",
    "\n",
    "\n",
    "def black_scholes(spot_price, strike_price, risk_rate, mature_time, volitility, callput):\n",
    "    divisor = volitility * mature_time * math.sqrt(mature_time)\n",
    "    d1 = (math.log(spot_price / strike_price) + (risk_rate + ((volitility ** 2) / 2)) * mature_time) / (divisor)\n",
    "    d2 = (d1 - divisor)\n",
    "    call = (spot_price * scipy.stats.norm.cdf(d1)) - strike_price * math.exp(\n",
    "        -risk_rate * mature_time) * scipy.stats.norm.cdf(d2)\n",
    "    put = strike_price * math.exp(-risk_rate * mature_time) * scipy.stats.norm.cdf(\n",
    "        -d2) - spot_price * scipy.stats.norm.cdf(-d1)\n",
    "    if callput == \"call\":\n",
    "        return call\n",
    "    else:\n",
    "        return put\n",
    "    # call = (spot_price * scipy.stats.norm.cdf((math.log(spot_price/strike_price)+(risk_rate+((volitility**2)/2))*mature_time) / (volitility*math.sqrt(mature_time)))) - strike_price * math.exp(-risk_rate * mature_time) * scipy.stats.norm.cdf(((math.log(spot_price/strike_price)+(risk_rate+((volitility**2)/2))*mature_time) / (volitility*math.sqrt(mature_time)) - (volitility * math.sqrt(mature_time))))\n",
    "\n",
    "\n",
    "print(black_scholes(100, 120, 0.05, 0.5, 0.2, \"call\"))\n",
    "print(black_scholes(100, 120, 0.05, 0.5, 0.2, \"put\"))\n",
    "print(black_scholes(100, 96, 0.05, 0.5, 0.2, \"call\"))\n",
    "print(black_scholes(100, 96, 0.05, 0.5, 0.2, \"put\"))"
   ]
  },
  {
   "cell_type": "code",
   "execution_count": 2,
   "outputs": [
    {
     "name": "stdout",
     "output_type": "stream",
     "text": [
      "17.470273425653982\n",
      "1.095140270757515\n",
      "17.470273425653982\n",
      "557.4141527783545\n",
      "2.665178842348572\n",
      "9.697483576132093\n",
      "2.665178842348572\n",
      "581.4141527783545\n"
     ]
    }
   ],
   "source": [
    "def binomial(starting_value, strike, rate, volatility, time, steps, option_type, exercise):\n",
    "    up = math.exp(volatility * math.sqrt(time / steps))\n",
    "    down = 1 / math.exp(volatility * math.sqrt(time / steps))\n",
    "    rate_value = math.exp((-rate) * time / steps)\n",
    "    increase_probability = ((math.exp(rate * (time / steps)) - down) / (up - down))\n",
    "    decrease_probability = 1 - increase_probability\n",
    "    tree = [[0]]\n",
    "    tree[0][0] = tree[0][0] + starting_value\n",
    "    for cur_depth in range(1, steps + 1):\n",
    "        new_values = []\n",
    "        old = tree[-1]\n",
    "        for child in range(0, cur_depth + 1):\n",
    "            if cur_depth == child:\n",
    "                new = old[-1] * down\n",
    "            elif child == 0:\n",
    "                new = old[0] * up\n",
    "            else:\n",
    "                new = ((old[child - 1] * up) + (old[child] * down)) / 2\n",
    "            new_values.append(new)\n",
    "        tree.append(new_values)\n",
    "    children = tree[-1]\n",
    "    values = []\n",
    "    for i in children:\n",
    "        if option_type == \"put\":\n",
    "            if strike - i > 0:\n",
    "                option = strike - i\n",
    "            else:\n",
    "                option = 0\n",
    "        else:\n",
    "            if i - strike > 0:\n",
    "                option = i - strike\n",
    "            else:\n",
    "                option = 0\n",
    "        values.append(option)\n",
    "    k = steps\n",
    "    while k >= 0:\n",
    "        for j in range(k):\n",
    "            values[j] = (increase_probability * values[j + 1] + decrease_probability * values[j]) * rate_value\n",
    "            if exercise == \"american\":\n",
    "                if option_type == \"put\":\n",
    "                    exercise_value = strike - children[j]\n",
    "                else:\n",
    "                    exercise_value = children[j] - strike\n",
    "                values[j] = max(values[j], exercise_value)\n",
    "        k = k - 1\n",
    "\n",
    "    return values[0]\n",
    "\n",
    "\n",
    "print(binomial(100, 120, 0.05, 0.2, 0.5, 183, \"put\", \"europiean\"))\n",
    "print(binomial(100, 120, 0.05, 0.2, 0.5, 183, \"call\", \"europiean\"))\n",
    "print(binomial(100, 120, 0.05, 0.2, 0.5, 183, \"put\", \"american\"))\n",
    "print(binomial(100, 120, 0.05, 0.2, 0.5, 183, \"call\", \"american\"))\n",
    "print(binomial(100, 96, 0.05, 0.2, 0.5, 183, \"put\", \"europiean\"))\n",
    "print(binomial(100, 96, 0.05, 0.2, 0.5, 183, \"call\", \"europiean\"))\n",
    "print(binomial(100, 96, 0.05, 0.2, 0.5, 183, \"put\", \"american\"))\n",
    "print(binomial(100, 96, 0.05, 0.2, 0.5, 183, \"call\", \"american\"))"
   ],
   "metadata": {
    "collapsed": false
   }
  },
  {
   "cell_type": "code",
   "execution_count": 3,
   "outputs": [
    {
     "name": "stdout",
     "output_type": "stream",
     "text": [
      "0.03597258105720598\n",
      "17.075799439816848\n",
      "7.028675875946282\n",
      "0.6465759600824077\n"
     ]
    }
   ],
   "source": [
    "def monte_carlo(stock_price, strike_price, time, interest_rate, volitility, type, steps, simulations):\n",
    "    volitility *= time\n",
    "    st = stock_price * numpy.exp(numpy.cumsum(((interest_rate - 0.5 * volitility * volitility) * time / steps) + (\n",
    "                volitility * numpy.sqrt(time / steps)) * numpy.random.normal(size=(steps, simulations)), axis=0))\n",
    "    if type == \"call\":\n",
    "        values = numpy.maximum(st[-1] - strike_price, 0)\n",
    "    else:\n",
    "        values = numpy.maximum(strike_price - st[-1], 0)\n",
    "    return numpy.mean(values) * numpy.exp(-interest_rate * time)\n",
    "\n",
    "\n",
    "print(monte_carlo(100, 120, 0.5, 0.05, 0.2, \"call\", 500, 200000))\n",
    "print(monte_carlo(100, 120, 0.5, 0.05, 0.2, \"put\", 500, 200000))\n",
    "print(monte_carlo(100, 96, 0.5, 0.05, 0.2, \"call\", 500, 200000))\n",
    "print(monte_carlo(100, 96, 0.5, 0.05, 0.2, \"put\", 500, 200000))"
   ],
   "metadata": {
    "collapsed": false
   }
  }
 ],
 "metadata": {
  "kernelspec": {
   "display_name": "Python 3",
   "language": "python",
   "name": "python3"
  },
  "language_info": {
   "codemirror_mode": {
    "name": "ipython",
    "version": 2
   },
   "file_extension": ".py",
   "mimetype": "text/x-python",
   "name": "python",
   "nbconvert_exporter": "python",
   "pygments_lexer": "ipython2",
   "version": "2.7.6"
  }
 },
 "nbformat": 4,
 "nbformat_minor": 0
}
