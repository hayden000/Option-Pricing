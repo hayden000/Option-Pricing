{
 "cells": [
  {
   "cell_type": "code",
   "execution_count": 9,
   "outputs": [
    {
     "name": "stdout",
     "output_type": "stream",
     "text": [
      "0.03311723312069925\n",
      "17.070306676520616\n",
      "7.009859140996113\n",
      "0.6396106957160494\n"
     ]
    }
   ],
   "source": [
    "import math\n",
    "import scipy\n",
    "import numpy\n",
    "\n",
    "def black_scholes(spot_price, strike_price, risk_rate, mature_time, volitility, callput):\n",
    "    # divisor = (volitility * mature_time * math.sqrt(mature_time))\n",
    "    # d1 = ((math.log(spot_price / strike_price) + (risk_rate + ((volitility ** 2) / 2)) * mature_time) / (divisor))\n",
    "    # d2 = (((math.log(spot_price / strike_price) + (risk_rate + ((volitility ** 2) / 2)) * mature_time) / (divisor)) - divisor)\n",
    "    call = (spot_price * scipy.stats.norm.cdf(((math.log(spot_price / strike_price) + (risk_rate + ((volitility ** 2) / 2)) * mature_time) / ((volitility * mature_time * math.sqrt(mature_time)))))) - strike_price * math.exp(\n",
    "        -risk_rate * mature_time) * scipy.stats.norm.cdf((((math.log(spot_price / strike_price) + (risk_rate + ((volitility ** 2) / 2)) * mature_time) / ((volitility * mature_time * math.sqrt(mature_time)))) - (volitility * mature_time * math.sqrt(mature_time))))\n",
    "    put = strike_price * math.exp(-risk_rate * mature_time) * scipy.stats.norm.cdf(\n",
    "        -(((math.log(spot_price / strike_price) + (risk_rate + ((volitility ** 2) / 2)) * mature_time) / ((volitility * mature_time * math.sqrt(mature_time)))) - (volitility * mature_time * math.sqrt(mature_time)))) - spot_price * scipy.stats.norm.cdf(-((math.log(spot_price / strike_price) + (risk_rate + ((volitility ** 2) / 2)) * mature_time) / ((volitility * mature_time * math.sqrt(mature_time)))))\n",
    "    if callput == \"put\":\n",
    "        return strike_price * math.exp(-risk_rate * mature_time) * scipy.stats.norm.cdf(\n",
    "            -(((math.log(spot_price / strike_price) + (risk_rate + ((volitility ** 2) / 2)) * mature_time) / ((volitility * mature_time * math.sqrt(mature_time)))) - (volitility * mature_time * math.sqrt(mature_time)))) - spot_price * scipy.stats.norm.cdf(-((math.log(spot_price / strike_price) + (risk_rate + ((volitility ** 2) / 2)) * mature_time) / ((volitility * mature_time * math.sqrt(mature_time)))))\n",
    "    return (spot_price * scipy.stats.norm.cdf(((math.log(spot_price / strike_price) + (risk_rate + ((volitility ** 2) / 2)) * mature_time) / ((volitility * mature_time * math.sqrt(mature_time)))))) - strike_price * math.exp(\n",
    "            -risk_rate * mature_time) * scipy.stats.norm.cdf((((math.log(spot_price / strike_price) + (risk_rate + ((volitility ** 2) / 2)) * mature_time) / ((volitility * mature_time * math.sqrt(mature_time)))) - (volitility * mature_time * math.sqrt(mature_time))))\n",
    "\n",
    "    # call = (spot_price * scipy.stats.norm.cdf((math.log(spot_price/strike_price)+(risk_rate+((volitility**2)/2))*mature_time) / (volitility*math.sqrt(mature_time)))) - strike_price * math.exp(-risk_rate * mature_time) * scipy.stats.norm.cdf(((math.log(spot_price/strike_price)+(risk_rate+((volitility**2)/2))*mature_time) / (volitility*math.sqrt(mature_time)) - (volitility * math.sqrt(mature_time))))\n",
    "\n",
    "\n",
    "print(black_scholes(100, 120, 0.05, 0.5, 0.2, \"call\"))\n",
    "print(black_scholes(100, 120, 0.05, 0.5, 0.2, \"put\"))\n",
    "print(black_scholes(100, 96, 0.05, 0.5, 0.2, \"call\"))\n",
    "print(black_scholes(100, 96, 0.05, 0.5, 0.2, \"put\"))"
   ],
   "metadata": {
    "collapsed": false
   }
  },
  {
   "cell_type": "code",
   "execution_count": 2,
   "outputs": [
    {
     "name": "stdout",
     "output_type": "stream",
     "text": [
      "0.03396405508481631\n",
      "17.071153498486204\n",
      "7.831833879451344\n",
      "0.48627552214449243\n",
      "--\n",
      "0.03396405508481631\n",
      "79.10639944187882\n",
      "7.831833879451344\n",
      "54.7111117206877\n"
     ]
    }
   ],
   "source": [
    "import math\n",
    "\n",
    "import numpy\n",
    "\n",
    "def binomial_tree(stock_price, strike_price, interest_rate, volatility, time, steps, option_type, exercise_type):\n",
    "    volatility = volatility * time\n",
    "    stock_tree = [[stock_price]]\n",
    "    for step in range(1, steps + 1):\n",
    "        price_row = []\n",
    "        for item in range(0, step + 1):\n",
    "            if item == step:\n",
    "                price = stock_tree[step - 1][step - 1] * (math.exp(volatility * numpy.sqrt((time / steps))))\n",
    "            elif item == 0:\n",
    "                price = stock_tree[step - 1][0] * (1 / (math.exp(volatility * numpy.sqrt((time / steps)))))\n",
    "            else:\n",
    "                price = stock_tree[step - 1][item - 1] * (math.exp(volatility * numpy.sqrt((time / steps))))\n",
    "            price_row.append(price)\n",
    "        stock_tree.append(price_row)\n",
    "    tree = [[-1]]\n",
    "    for step in range(1, steps):\n",
    "        child = []\n",
    "        for item in range(step + 1):\n",
    "            child.append(-1)\n",
    "        tree.append(child)\n",
    "    level = []\n",
    "    for step in range(steps + 1):\n",
    "        price = stock_tree[steps][step]\n",
    "        if option_type == 'call':\n",
    "            if price <= strike_price:\n",
    "                value = 0\n",
    "            else:\n",
    "                value = price - strike_price\n",
    "        else:\n",
    "            if strike_price > price:\n",
    "                value = strike_price - price\n",
    "            else:\n",
    "                value = 0\n",
    "\n",
    "        level.append(value)\n",
    "    tree.append(level)\n",
    "\n",
    "    for step in range(steps - 1, -1, -1):\n",
    "        col = tree[step + 1]\n",
    "        for item in range(step + 1):\n",
    "            if option_type == 'put':\n",
    "                if exercise_type == 'american':\n",
    "                    if value < strike_price - stock_tree[step][item]:\n",
    "                        american_value = strike_price - stock_tree[step][item]\n",
    "                    else:\n",
    "                        american_value = value\n",
    "\n",
    "                    value = (math.exp(-interest_rate * (time / steps))) * ((math.exp(\n",
    "                        interest_rate * (time / steps)) - (1 / (\n",
    "                        math.exp(volatility * numpy.sqrt((time / steps)))))) / ((math.exp(\n",
    "                        volatility * numpy.sqrt((time / steps)))) - (1 / (\n",
    "                        math.exp(volatility * numpy.sqrt((time / steps)))))) * col[item + 1] + (1 - (\n",
    "                            math.exp(interest_rate * (time / steps)) - (\n",
    "                            1 / (math.exp(volatility * numpy.sqrt((time / steps)))))) / ((math.exp(\n",
    "                        volatility * numpy.sqrt((time / steps)))) - (1 / (\n",
    "                        math.exp(volatility * numpy.sqrt((time / steps))))))) * col[item])\n",
    "                    if american_value < value:\n",
    "                        tree[step][item] = value\n",
    "                    else:\n",
    "                        tree[step][item] = american_value\n",
    "\n",
    "                else:\n",
    "                    tree[step][item] = (math.exp(-interest_rate * (time / steps))) * ((math.exp(\n",
    "                        interest_rate * (time / steps)) - (1 / (\n",
    "                        math.exp(volatility * numpy.sqrt((time / steps)))))) / ((math.exp(\n",
    "                        volatility * numpy.sqrt((time / steps)))) - (1 / (\n",
    "                        math.exp(volatility * numpy.sqrt((time / steps)))))) * col[item + 1] + (1 - (\n",
    "                            math.exp(interest_rate * (time / steps)) - (\n",
    "                            1 / (math.exp(volatility * numpy.sqrt((time / steps)))))) / ((math.exp(\n",
    "                        volatility * numpy.sqrt((time / steps)))) - (1 / (\n",
    "                        math.exp(volatility * numpy.sqrt((time / steps))))))) * col[item])\n",
    "            else:\n",
    "                tree[step][item] = (math.exp(-interest_rate * (time / steps))) * ((math.exp(\n",
    "                    interest_rate * (time / steps)) - (1 / (\n",
    "                    math.exp(volatility * numpy.sqrt((time / steps)))))) / ((math.exp(\n",
    "                    volatility * numpy.sqrt((time / steps)))) - (1 / (\n",
    "                    math.exp(volatility * numpy.sqrt((time / steps)))))) * col[item + 1] + (1 - (\n",
    "                        math.exp(interest_rate * (time / steps)) - (\n",
    "                        1 / (math.exp(volatility * numpy.sqrt((time / steps)))))) / ((math.exp(\n",
    "                    volatility * numpy.sqrt((time / steps)))) - (1 / (\n",
    "                    math.exp(volatility * numpy.sqrt((time / steps))))))) * col[item])\n",
    "    tree = tree[0][0]\n",
    "    return tree\n",
    "\n",
    "\n",
    "\n",
    "print(binomial_tree(100, 120, 0.05, 0.20, 0.5, 180, 'call', 'european'))\n",
    "print(binomial_tree(100, 120, 0.05, 0.20, 0.5, 180, 'put', 'european'))\n",
    "print(binomial_tree(100, 95, 0.05, 0.20, 0.5, 180, 'call', 'european'))\n",
    "print(binomial_tree(100, 95, 0.05, 0.20, 0.5, 180, 'put', 'european'))\n",
    "print('--')\n",
    "print(binomial_tree(100, 120, 0.05, 0.20, 0.5, 180, 'call', 'american'))\n",
    "print(binomial_tree(100, 120, 0.05, 0.20, 0.5, 180, 'put', 'american'))\n",
    "print(binomial_tree(100, 95, 0.05, 0.20, 0.5, 180, 'call', 'american'))\n",
    "print(binomial_tree(100, 95, 0.05, 0.20, 0.5, 180, 'put', 'american'))\n"
   ],
   "metadata": {
    "collapsed": false
   }
  },
  {
   "cell_type": "code",
   "execution_count": 3,
   "outputs": [
    {
     "name": "stdout",
     "output_type": "stream",
     "text": [
      "0.03357200489445483\n",
      "17.049408418051616\n",
      "7.004069589102746\n",
      "0.6544535203253329\n"
     ]
    }
   ],
   "source": [
    "import scipy\n",
    "\n",
    "\n",
    "def monte_carlo(stock_price, strike_price, time, interest_rate, volatility, type, steps, simulations):\n",
    "    volatility *= time\n",
    "    st = stock_price * numpy.exp(numpy.cumsum(((interest_rate - 0.5 * volatility * volatility) * time / steps) + (\n",
    "            volatility * numpy.sqrt(time / steps)) * numpy.random.standard_normal(size=(steps, simulations)), axis=0))\n",
    "    if type == \"put\":\n",
    "        values = numpy.maximum(strike_price - st[-1], 0)\n",
    "    else:\n",
    "        values = numpy.maximum(st[-1] - strike_price, 0)\n",
    "    val = 0\n",
    "    for i in range(0, len(values)):\n",
    "        val = values[i] + val\n",
    "    return val / len(values) * math.exp(-interest_rate * time)\n",
    "\n",
    "\n",
    "print(monte_carlo(100, 120, 0.5, 0.05, 0.2, \"call\", 500, 200000))\n",
    "print(monte_carlo(100, 120, 0.5, 0.05, 0.2, \"put\", 500, 200000))\n",
    "print(monte_carlo(100, 96, 0.5, 0.05, 0.2, \"call\", 500, 200000))\n",
    "print(monte_carlo(100, 96, 0.5, 0.05, 0.2, \"put\", 500, 200000))"
   ],
   "metadata": {
    "collapsed": false
   }
  },
  {
   "cell_type": "code",
   "execution_count": 3,
   "outputs": [],
   "source": [],
   "metadata": {
    "collapsed": false
   }
  }
 ],
 "metadata": {
  "kernelspec": {
   "display_name": "Python 3",
   "language": "python",
   "name": "python3"
  },
  "language_info": {
   "codemirror_mode": {
    "name": "ipython",
    "version": 2
   },
   "file_extension": ".py",
   "mimetype": "text/x-python",
   "name": "python",
   "nbconvert_exporter": "python",
   "pygments_lexer": "ipython2",
   "version": "2.7.6"
  }
 },
 "nbformat": 4,
 "nbformat_minor": 0
}
