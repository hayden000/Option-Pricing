{
 "cells": [
  {
   "cell_type": "code",
   "execution_count": 7,
   "outputs": [],
   "source": [
    "import math\n",
    "import numpy\n",
    "import scipy"
   ],
   "metadata": {
    "collapsed": false
   }
  },
  {
   "cell_type": "code",
   "execution_count": 8,
   "outputs": [],
   "source": [
    "def black_scholes(spot_price, strike_price, risk_rate, mature_time, volitility, callput):\n",
    "    if callput == \"call\":\n",
    "        return numpy.round(((spot_price * scipy.stats.norm.cdf(((math.log(spot_price / strike_price) + (\n",
    "                risk_rate + ((volitility ** 2) / 2)) * mature_time) / ((\n",
    "                volitility * math.sqrt(mature_time)))))) - strike_price * math.exp(\n",
    "            -risk_rate * mature_time) * scipy.stats.norm.cdf((((math.log(spot_price / strike_price) + (\n",
    "                risk_rate + ((volitility ** 2) / 2)) * mature_time) / ((volitility * math.sqrt(mature_time)))) - (\n",
    "                                                                      volitility * math.sqrt(mature_time))))),\n",
    "                           decimals=1)\n",
    "    else:\n",
    "        return numpy.round((strike_price * math.exp(-risk_rate * mature_time) * scipy.stats.norm.cdf(\n",
    "            -(((math.log(spot_price / strike_price) + (risk_rate + ((volitility ** 2) / 2)) * mature_time) / (\n",
    "                (volitility * math.sqrt(mature_time)))) - (\n",
    "                      volitility * math.sqrt(mature_time)))) - spot_price * scipy.stats.norm.cdf(-(\n",
    "                (math.log(spot_price / strike_price) + (risk_rate + ((volitility ** 2) / 2)) * mature_time) / (\n",
    "            (volitility * math.sqrt(mature_time)))))), decimals=1)"
   ],
   "metadata": {
    "collapsed": false
   }
  },
  {
   "cell_type": "code",
   "execution_count": 9,
   "outputs": [],
   "source": [
    "def binomial_tree(stock_price, strike_price, interest_rate, volatility, time, steps, option_type, exercise_type):\n",
    "    stock_tree = [[stock_price]]\n",
    "    for step in range(1, steps + 1):\n",
    "        price_row = []\n",
    "        for item in range(0, step + 1):\n",
    "            if item == step:\n",
    "                price = stock_tree[step - 1][step - 1] * (math.exp(volatility * numpy.sqrt((time / steps))))\n",
    "            elif item == 0:\n",
    "                price = stock_tree[step - 1][0] * (1 / (math.exp(volatility * numpy.sqrt((time / steps)))))\n",
    "            else:\n",
    "                price = stock_tree[step - 1][item - 1] * (math.exp(volatility * numpy.sqrt((time / steps))))\n",
    "            price_row.append(price)\n",
    "        stock_tree.append(price_row)\n",
    "    tree = [[-1]]\n",
    "    for step in range(1, steps):\n",
    "        child = []\n",
    "        for item in range(step + 1):\n",
    "            child.append(-1)\n",
    "        tree.append(child)\n",
    "    level = []\n",
    "    for step in range(steps + 1):\n",
    "        price = stock_tree[steps][step]\n",
    "        if option_type == 'call':\n",
    "            if price <= strike_price:\n",
    "                value = 0\n",
    "            else:\n",
    "                value = price - strike_price\n",
    "        else:\n",
    "            if strike_price > price:\n",
    "                value = strike_price - price\n",
    "            else:\n",
    "                value = 0\n",
    "        level.append(value)\n",
    "    tree.append(level)\n",
    "    for i in range(steps - 1, -1, -1):\n",
    "        prev_row = tree[i + 1]\n",
    "        for j in range(i + 1):\n",
    "            if exercise_type == 'american' and option_type == 'put':\n",
    "                american_value = max(value, strike_price - stock_tree[i][j])\n",
    "                item_value = (math.exp(-interest_rate * (time / steps))) * ((math.e ** (\n",
    "                        interest_rate * (time / steps)) - (1 / math.e ** (\n",
    "                        volatility * math.sqrt((time / steps))))) / ((math.e ** (\n",
    "                        volatility * math.sqrt((time / steps)))) - (1 / math.e ** (\n",
    "                        volatility * math.sqrt((time / steps))))) * prev_row[j + 1] + (1 - (\n",
    "                        math.exp(interest_rate * (time / steps)) - (\n",
    "                        1 / math.exp(volatility * math.sqrt((time / steps))))) / ((math.exp(\n",
    "                    volatility * numpy.sqrt((time / steps)))) - (1 / math.e ** (\n",
    "                        volatility * numpy.sqrt((time / steps)))))) * prev_row[j])\n",
    "                tree[i][j] = max(american_value, item_value)\n",
    "            else:\n",
    "                tree[i][j] = (math.exp(-interest_rate * (time / steps))) * ((math.e ** (\n",
    "                        interest_rate * (time / steps)) - (1 / math.e ** (\n",
    "                        volatility * math.sqrt((time / steps))))) / ((math.e ** (\n",
    "                        volatility * math.sqrt((time / steps)))) - (1 / math.e ** (\n",
    "                        volatility * math.sqrt((time / steps))))) * prev_row[j + 1] + (1 - (\n",
    "                        math.e ** (interest_rate * (time / steps)) - (\n",
    "                        1 / math.e ** (volatility * math.sqrt((time / steps))))) / ((math.e ** (\n",
    "                        volatility * math.sqrt((time / steps)))) - (1 / math.e ** (\n",
    "                        volatility * math.sqrt((time / steps)))))) * prev_row[j])\n",
    "    tree = tree[0][0]\n",
    "    return numpy.round(tree, decimals=1)"
   ],
   "metadata": {
    "collapsed": false
   }
  },
  {
   "cell_type": "code",
   "execution_count": 10,
   "outputs": [],
   "source": [
    "def monte_carlo(stock_price, strike_price, time, interest_rate, volatility, type, steps, simulations):\n",
    "    st = stock_price * numpy.exp(numpy.cumsum(((interest_rate - 0.5 * volatility * volatility) * time / steps) + (\n",
    "            volatility * numpy.sqrt(time / steps)) * numpy.random.standard_normal(size=(steps, simulations)), axis=0))\n",
    "    if type == \"put\":\n",
    "        values = numpy.maximum(strike_price - st[-1], 0)\n",
    "    else:\n",
    "        values = numpy.maximum(st[-1] - strike_price, 0)\n",
    "    val = 0\n",
    "    for i in range(0, len(values)):\n",
    "        val = values[i] + val\n",
    "    return numpy.round(val / len(values) * math.exp(-interest_rate * time), decimals=1)"
   ],
   "metadata": {
    "collapsed": false
   }
  },
  {
   "cell_type": "code",
   "execution_count": 11,
   "outputs": [
    {
     "name": "stdout",
     "output_type": "stream",
     "text": [
      "black_scholes call x1 1.0\n",
      "black_scholes put x1 18.1\n",
      "black_scholes call x2 8.0\n",
      "black_scholes put x2 3.6\n",
      "binomial tree call euro x1 1.0\n",
      "binomial tree put euro x1 18.1\n",
      "binomial tree call amer x1 1.0\n",
      "binomial tree put amer x1 20\n",
      "binomial tree call euro x2 8.0\n",
      "binomial tree put euro x2 3.6\n",
      "binomial tree call amer x2 8.0\n",
      "binomial tree put amer x2 3.8\n",
      "monte carlo call x1 1.0\n",
      "monte carlo put x1 18.1\n",
      "monte carlo call x2 8.0\n",
      "monte carlo put x2 3.6\n"
     ]
    }
   ],
   "source": [
    "print(\"black_scholes call x1\", black_scholes(100, 120, 0.05, 0.5, 0.2, \"call\"))\n",
    "print(\"black_scholes put x1\", black_scholes(100, 120, 0.05, 0.5, 0.2, \"put\"))\n",
    "\n",
    "print(\"black_scholes call x2\", black_scholes(100, 98, 0.05, 0.5, 0.2, \"call\"))\n",
    "print(\"black_scholes put x2\", black_scholes(100, 98, 0.05, 0.5, 0.2, \"put\"))\n",
    "\n",
    "print(\"binomial tree call euro x1\", binomial_tree(100, 120, 0.05, 0.20, 0.5, 180, 'call', 'europiean'))\n",
    "print(\"binomial tree put euro x1\", binomial_tree(100, 120, 0.05, 0.20, 0.5, 180, 'put', 'europiean'))\n",
    "print(\"binomial tree call amer x1\", binomial_tree(100, 120, 0.05, 0.20, 0.5, 180, 'call', 'american'))\n",
    "print(\"binomial tree put amer x1\", binomial_tree(100, 120, 0.05, 0.20, 0.5, 180, 'put', 'american'))\n",
    "\n",
    "print(\"binomial tree call euro x2\", binomial_tree(100, 98, 0.05, 0.20, 0.5, 180, 'call', 'europiean'))\n",
    "print(\"binomial tree put euro x2\", binomial_tree(100, 98, 0.05, 0.20, 0.5, 180, 'put', 'europiean'))\n",
    "print(\"binomial tree call amer x2\", binomial_tree(100, 98, 0.05, 0.20, 0.5, 180, 'call', 'american'))\n",
    "print(\"binomial tree put amer x2\", binomial_tree(100, 98, 0.05, 0.20, 0.5, 180, 'put', 'american'))\n",
    "\n",
    "print(\"monte carlo call x1\", monte_carlo(100, 120, 0.5, 0.05, 0.2, \"call\", 500, 200000))\n",
    "print(\"monte carlo put x1\", monte_carlo(100, 120, 0.5, 0.05, 0.2, \"put\", 500, 200000))\n",
    "\n",
    "print(\"monte carlo call x2\", monte_carlo(100, 98, 0.5, 0.05, 0.2, \"call\", 500, 200000))\n",
    "print(\"monte carlo put x2\", monte_carlo(100, 98, 0.5, 0.05, 0.2, \"put\", 500, 200000))"
   ],
   "metadata": {
    "collapsed": false
   }
  }
 ],
 "metadata": {
  "kernelspec": {
   "display_name": "Python 3",
   "language": "python",
   "name": "python3"
  },
  "language_info": {
   "codemirror_mode": {
    "name": "ipython",
    "version": 2
   },
   "file_extension": ".py",
   "mimetype": "text/x-python",
   "name": "python",
   "nbconvert_exporter": "python",
   "pygments_lexer": "ipython2",
   "version": "2.7.6"
  }
 },
 "nbformat": 4,
 "nbformat_minor": 0
}
